{
 "cells": [
  {
   "cell_type": "markdown",
   "metadata": {},
   "source": [
    "# Projeto 1: Mola 2D\n",
    "\n",
    "**Computação Gráfica: SCC-0250 2020.1**\n",
    "\n",
    "    - Lucas Veiga Betoni (Nº USP 9875952)\n",
    "    - Matheus Carvalho Raimundo (Nº USP 10369014)\n",
    "\n",
    " \t _______ _______ _______\n",
    " \t|   |   |               \\\n",
    " \t|   |   |      \\    |___|\n",
    " \t|   |    \\      |   |\n",
    " \t|_______ _______|___|"
   ]
  },
  {
   "cell_type": "markdown",
   "metadata": {},
   "source": [
    "### Primeiro, vamos importar as bibliotecas necessárias\n",
    "\n",
    "É necessário as bibliotecas do OpenGL, GLFW, matemática, random e numpy (para trabalhar com as matrizes)."
   ]
  },
  {
   "cell_type": "code",
   "execution_count": 87,
   "metadata": {},
   "outputs": [],
   "source": [
    "import glfw\n",
    "from OpenGL.GL import *\n",
    "import OpenGL.GL.shaders\n",
    "import numpy as np\n",
    "import random as rand\n",
    "import math"
   ]
  },
  {
   "cell_type": "markdown",
   "metadata": {},
   "source": [
    "### Inicializando janela\n",
    "\n",
    "Nossa janela terá 800x800 pixels de largura/altura. Isso será o bastante para trabalhar com nossa mola."
   ]
  },
  {
   "cell_type": "code",
   "execution_count": 88,
   "metadata": {},
   "outputs": [],
   "source": [
    "glfw.init()\n",
    "glfw.window_hint(glfw.VISIBLE, glfw.FALSE);\n",
    "window = glfw.create_window(800, 800, \"Trabalho Pratico 1\", None, None)\n",
    "glfw.make_context_current(window)"
   ]
  },
  {
   "cell_type": "markdown",
   "metadata": {},
   "source": [
    "### GLSL (OpenGL Shading Language)\n",
    "\n",
    "Agora vamos gerar o código GLSL, responsável pela multiplicação das matrizes e manipulação dos dados na nossa GPU."
   ]
  },
  {
   "cell_type": "markdown",
   "metadata": {},
   "source": [
    "### GLSL para Vertex Shader\n",
    "\n",
    "No Pipeline programável, podemos interagir com Vertex Shaders.\n",
    "\n",
    "No código abaixo, estamos fazendo o seguinte:\n",
    "\n",
    "* Definindo uma variável chamada position do tipo vec2.\n",
    "* Definindo uma variável chamada mat do tipo mat4 (matriz 4x4).\n",
    "* Usamos vec2, pois nosso programa (na CPU) irá enviar apenas duas coordenadas para plotar pontos.\n",
    "* void main() é o ponto de entrada do nosso programa (função principal)\n",
    "* gl_Position é uma variável especial do GLSL que determina a posição de um ponto."
   ]
  },
  {
   "cell_type": "code",
   "execution_count": 89,
   "metadata": {},
   "outputs": [],
   "source": [
    "vertex_code = \"\"\"\n",
    "        attribute vec2 position;\n",
    "        uniform mat4 mat;\n",
    "        void main(){\n",
    "            gl_Position = mat * vec4(position, 0.0, 1.0);\n",
    "        }\n",
    "        \"\"\""
   ]
  },
  {
   "cell_type": "markdown",
   "metadata": {},
   "source": [
    "### GLSL para Fragment Shader\n",
    "\n",
    "No Pipeline programável, podemos interagir com Fragment Shaders.\n",
    "\n",
    "No código abaixo, estamos fazendo o seguinte:\n",
    "\n",
    "* void main() é o ponto de entrada do nosso programa (função principal)\n",
    "* gl_FragColor é uma variável especial do GLSL que determina a cor de um fragmento."
   ]
  },
  {
   "cell_type": "markdown",
   "metadata": {},
   "source": [
    "### Cor da mola\n",
    "\n",
    "Para fins desse trabalho, vamos manter a cor fixa em 'Preto'. Então definimos aqui a cor de fragmento."
   ]
  },
  {
   "cell_type": "code",
   "execution_count": 90,
   "metadata": {},
   "outputs": [],
   "source": [
    "fragment_code = \"\"\"\n",
    "        void main(){\n",
    "            gl_FragColor = vec4(0.0, 0.0, 0.0, 1.0);\n",
    "        }\n",
    "        \"\"\""
   ]
  },
  {
   "cell_type": "markdown",
   "metadata": {},
   "source": [
    "### Requisitando slot na GPU para nossos programas Vertex e Fragment Shaders"
   ]
  },
  {
   "cell_type": "code",
   "execution_count": 91,
   "metadata": {},
   "outputs": [],
   "source": [
    "program  = glCreateProgram()\n",
    "vertex   = glCreateShader(GL_VERTEX_SHADER)\n",
    "fragment = glCreateShader(GL_FRAGMENT_SHADER)"
   ]
  },
  {
   "cell_type": "markdown",
   "metadata": {},
   "source": [
    "### Associando nosso código-fonte aos slots solicitados"
   ]
  },
  {
   "cell_type": "code",
   "execution_count": 92,
   "metadata": {},
   "outputs": [],
   "source": [
    "glShaderSource(vertex, vertex_code)\n",
    "glShaderSource(fragment, fragment_code)"
   ]
  },
  {
   "cell_type": "markdown",
   "metadata": {},
   "source": [
    "### Compilando o Vertex Shader\n",
    "\n",
    "Se há algum erro em nosso programa Vertex Shader, a execução para por aqui."
   ]
  },
  {
   "cell_type": "code",
   "execution_count": 93,
   "metadata": {},
   "outputs": [],
   "source": [
    "glCompileShader(vertex)\n",
    "if not glGetShaderiv(vertex, GL_COMPILE_STATUS):\n",
    "    error = glGetShaderInfoLog(vertex).decode()\n",
    "    print(error)\n",
    "    raise RuntimeError(\"Erro de compilação do Vertex Shader!\")"
   ]
  },
  {
   "cell_type": "markdown",
   "metadata": {},
   "source": [
    "### Compilando o Fragment Shader\n",
    "\n",
    "Se há algum erro em nosso programa Fragment Shader, a execução para por aqui."
   ]
  },
  {
   "cell_type": "code",
   "execution_count": 94,
   "metadata": {},
   "outputs": [],
   "source": [
    "glCompileShader(fragment)\n",
    "if not glGetShaderiv(fragment, GL_COMPILE_STATUS):\n",
    "    error = glGetShaderInfoLog(fragment).decode()\n",
    "    print(error)\n",
    "    raise RuntimeError(\"Erro de compilação do Fragment Shader!\")"
   ]
  },
  {
   "cell_type": "markdown",
   "metadata": {},
   "source": [
    "### Associando os programas compilado ao programa principal"
   ]
  },
  {
   "cell_type": "code",
   "execution_count": 95,
   "metadata": {},
   "outputs": [],
   "source": [
    "glAttachShader(program, vertex)\n",
    "glAttachShader(program, fragment)"
   ]
  },
  {
   "cell_type": "markdown",
   "metadata": {},
   "source": [
    "### Linkagem do programa"
   ]
  },
  {
   "cell_type": "code",
   "execution_count": 96,
   "metadata": {},
   "outputs": [],
   "source": [
    "glLinkProgram(program)\n",
    "if not glGetProgramiv(program, GL_LINK_STATUS):\n",
    "    print(glGetProgramInfoLog(program))\n",
    "    raise RuntimeError(\"Erro de linkagem dos programas!\")\n",
    "\n",
    "glUseProgram(program)"
   ]
  },
  {
   "cell_type": "markdown",
   "metadata": {},
   "source": [
    "### Gerando a mola e enviando dados para a GPU\n",
    "\n",
    "Nesse momento, nós compilamos nossos Vertex e Program Shaders para que a GPU possa processá-los. Por outro lado, as informações de vértices estão na CPU, e devem ser primeiramente transmitidas para a GPU. Então precisamos modelar nossa mola e depois enviar os pontos encontrados para a GPU.\n",
    "\n",
    "Aqui definimos nossa mola usando pontos, para posteriormente serem desenhados usando a diretiva GL_LINE_STRIP. Para gerar os pontos, usamos como base a função matemática que define a mola: `F(t) = (cos(6t), 0.5t)`. Alteramos os parâmetros dessa função matemática com base no que o usuário defina nas variáveis editáveis abaixo.\n",
    "\n",
    "Qualquer parâmetro da mola pode ser definido aqui nessa definição, e isso faz com que ela seja gerada de uma maneira diferente."
   ]
  },
  {
   "cell_type": "code",
   "execution_count": 97,
   "metadata": {},
   "outputs": [],
   "source": [
    "# Variáveis editáveis da mola\n",
    "num_vertices = 200 # Define a \"qualidade\" dos circulos da mola\n",
    "radius = 0.1 # Raio da mola\n",
    "loop = 5 # Número de círculos na mola\n",
    "y_scale = 0.02 # Escala na variável y\n",
    "\n",
    "\n",
    "\n",
    "vertices = np.zeros(num_vertices, [(\"position\", np.float32, 2)])\n",
    "pi = math.pi\n",
    "counter = 0\n",
    "angle = 0.0\n",
    "for counter in range(num_vertices):\n",
    "    angle += loop*2*pi/num_vertices \n",
    "    x = math.sin(angle)*radius\n",
    "    y = angle*y_scale/loop\n",
    "    vertices[counter]['position'] = [x,y]"
   ]
  },
  {
   "cell_type": "markdown",
   "metadata": {},
   "source": [
    "### Para enviar nossos dados da CPU para a GPU, precisamos requisitar um slot."
   ]
  },
  {
   "cell_type": "code",
   "execution_count": 98,
   "metadata": {},
   "outputs": [],
   "source": [
    "buffer = glGenBuffers(1)\n",
    "glBindBuffer(GL_ARRAY_BUFFER, buffer)"
   ]
  },
  {
   "cell_type": "markdown",
   "metadata": {},
   "source": [
    "### Abaixo, nós enviamos todo o conteúdo da variável vertices."
   ]
  },
  {
   "cell_type": "code",
   "execution_count": 99,
   "metadata": {},
   "outputs": [],
   "source": [
    "glBufferData(GL_ARRAY_BUFFER, vertices.nbytes, vertices, GL_DYNAMIC_DRAW)\n",
    "glBindBuffer(GL_ARRAY_BUFFER, buffer)"
   ]
  },
  {
   "cell_type": "markdown",
   "metadata": {},
   "source": [
    "### Associando variáveis do programa GLSL (Vertex Shaders) com nossos dados\n",
    "\n",
    "Primeiro, definimos o byte inicial e o offset dos dados."
   ]
  },
  {
   "cell_type": "code",
   "execution_count": 100,
   "metadata": {},
   "outputs": [],
   "source": [
    "stride = vertices.strides[0]\n",
    "offset = ctypes.c_void_p(0)"
   ]
  },
  {
   "cell_type": "markdown",
   "metadata": {},
   "source": [
    "Em seguida, soliciamos à GPU a localização da variável \"position\" (que guarda coordenadas dos nossos pontos). Nós definimos essa variável no Vertex Shader."
   ]
  },
  {
   "cell_type": "code",
   "execution_count": 101,
   "metadata": {},
   "outputs": [],
   "source": [
    "loc = glGetAttribLocation(program, \"position\")\n",
    "glEnableVertexAttribArray(loc)"
   ]
  },
  {
   "cell_type": "markdown",
   "metadata": {},
   "source": [
    "A partir da localização anterior, nós indicamos à GPU onde está o conteúdo (via posições stride/offset) para a variável position (aqui identificada na posição loc).\n",
    "\n",
    "Outros parâmetros:\n",
    "\n",
    "* Definimos que possui duas coordenadas\n",
    "* Que cada coordenada é do tipo float (GL_FLOAT)\n",
    "* Que não se deve normalizar a coordenada (False)"
   ]
  },
  {
   "cell_type": "code",
   "execution_count": 102,
   "metadata": {},
   "outputs": [],
   "source": [
    "glVertexAttribPointer(loc, 2, GL_FLOAT, False, stride, offset)"
   ]
  },
  {
   "cell_type": "markdown",
   "metadata": {},
   "source": [
    "### Capturando eventos de teclado\n",
    "\n",
    "A única tecla que nos interessa é a barra de espaços do teclado. Quando \\[ESPAÇO\\] for pressionado, vamos notificar nosso loop principal (mais abaixo) usando a variável \"space_pressed\". Quando for solto, o mesmo."
   ]
  },
  {
   "cell_type": "code",
   "execution_count": 103,
   "metadata": {},
   "outputs": [],
   "source": [
    "space_pressed = False\n",
    "\n",
    "def key_event(window,key,scancode,action,mods):\n",
    "    global space_pressed\n",
    "    \n",
    "    if key == 32 and action == 1: # Apertou a tecla de espaço.\n",
    "        space_pressed = True\n",
    "    elif key == 32 and action == 0: # Soltou a tecla de espaço.\n",
    "        space_pressed = False\n",
    "    \n",
    "    \n",
    "glfw.set_key_callback(window,key_event)"
   ]
  },
  {
   "cell_type": "markdown",
   "metadata": {},
   "source": [
    "### Agora podemos exibir a janela."
   ]
  },
  {
   "cell_type": "code",
   "execution_count": 104,
   "metadata": {},
   "outputs": [],
   "source": [
    "glfw.show_window(window)"
   ]
  },
  {
   "cell_type": "markdown",
   "metadata": {},
   "source": [
    "### Definição de funções.\n",
    "\n",
    "Aqui vamos definir duas funções importantes que serão usadas no nosso programa, em especial a \"desenhar\". Esta é responsável por realizar o loop do programa principal. Ela vai desenhar um _frame_ da mola na tela com base nos parâmetros que receber.\n",
    "\n",
    "Os pontos gerados anteriormente são desenhados na tela usando a primitiva GL_LINE_STRIP, com as devidas transformações - quando necessário."
   ]
  },
  {
   "cell_type": "code",
   "execution_count": 105,
   "metadata": {},
   "outputs": [],
   "source": [
    "# Essa função multiplica duas matrizes (a e b), retornando o resultado da multiplicação.\n",
    "def multiplica_matriz(a,b):\n",
    "    m_a = a.reshape(4,4)\n",
    "    m_b = b.reshape(4,4)\n",
    "    m_c = np.dot(m_a,m_b)\n",
    "    c = m_c.reshape(1,16)\n",
    "    return c\n",
    "\n",
    "# Essa função desenha na tela a mola com as devidas transformações.\n",
    "def desenhar(translation_x = 0.0, translation_y = 0.0, scale_x = 1.0, scale_y = 1.0, rotation = 0.0):\n",
    "    global glfw, vertices, y_start\n",
    "    sin_rotation = math.sin(rotation)\n",
    "    cos_rotation = math.cos(rotation)\n",
    "    \n",
    "    translation_y += y_start\n",
    "    \n",
    "    glfw.poll_events()\n",
    "    glClear(GL_COLOR_BUFFER_BIT)\n",
    "    glClearColor(1.0, 1.0, 1.0, 1.0)\n",
    "    \n",
    "    mat_scale = np.array([     scale_x, 0.0, 0.0, 0.0,\n",
    "                                0.0, scale_y, 0.0, 0.0,\n",
    "                                0.0, 0.0, 1.0, 0.0,\n",
    "                                0.0, 0.0, 0.0, 1.0], np.float32)\n",
    "    \n",
    "    mat_rotation = np.array([  cos_rotation, -sin_rotation, 0.0, 0.0,\n",
    "                               sin_rotation, cos_rotation, 0.0, 0.0,\n",
    "                               0.0, 0.0, 1.0, 0.0,\n",
    "                               0.0, 0.0, 0.0, 1.0], np.float32)\n",
    "    \n",
    "    mat_translation = np.array([  1.0, 0.0, 0.0, translation_x,\n",
    "                                  0.0, 1.0, 0.0, translation_y,\n",
    "                                  0.0, 0.0, 1.0, 0.0,\n",
    "                                  0.0, 0.0, 0.0, 1.0], np.float32)\n",
    "    \n",
    "    mat_transform = multiplica_matriz(mat_scale, mat_rotation)\n",
    "    mat_transform = multiplica_matriz(mat_translation, mat_transform)\n",
    "    \n",
    "    loc = glGetUniformLocation(program, \"mat\")\n",
    "    glUniformMatrix4fv(loc, 1, GL_TRUE, mat_transform)\n",
    "    \n",
    "    glDrawArrays(GL_LINE_STRIP, 0, len(vertices))\n",
    "\n",
    "    glfw.swap_buffers(window)"
   ]
  },
  {
   "cell_type": "markdown",
   "metadata": {},
   "source": [
    "### Definição de constantes das animações da mola.\n",
    "\n",
    "Se essas constantes forem modificadas, o comportamento do pulo da mola será também modificado."
   ]
  },
  {
   "cell_type": "code",
   "execution_count": 106,
   "metadata": {},
   "outputs": [],
   "source": [
    "compress_rate = 0.005 # Velocidade de compressão da mola quando [ESPAÇO] é pressionado.\n",
    "compress_min = 0.1 # Compressão mínima permitida na mola - se não chegar nisso, ela não pula.\n",
    "compress_max = 0.75 # Compressão máxima permitida na mola - se chegar nisso, ela para o mais longe possível.\n",
    "\n",
    "bounce_random_probability = 0.5 # 0.0 = só pula pra esquerda, 1.0 = só pula pra direita, 0.5 = random com chances iguais\n",
    "\n",
    "bounce_rate = 0.005 # Velocidade de pulo da mola.\n",
    "bounce_min_x_distance = 0.2 # Distância mínima (eixo x) que a mola para após o pulo.\n",
    "bounce_min_y_distance = 0.2 # Distância mínima (eixo y) que a mola para após o pulo.\n",
    "bounce_max_x_distance = 0.85 # Distância máxima (eixo x) que a mola para após o pulo.\n",
    "bounce_max_y_distance = 1.4 # Distância máxima (eixo y) que a mola para após o pulo.\n",
    "\n",
    "restart_wait = 60 # Tempo que o programa espera depois que a mola pousou antes de retomar sua posição inicial.\n",
    "y_start = -0.8 # Posição de \"spawn\" da mola no eixo y"
   ]
  },
  {
   "cell_type": "markdown",
   "metadata": {},
   "source": [
    "### Loop principal da janela.\n",
    "\n",
    "Enquanto a janela não for fechada, esse laço será executado. É neste espaço que trabalhamos com algumas interações com a OpenGL.\n",
    "\n",
    "O _loop_ continua o mesmo sempre (apenas desenhar a mola parada na tela). Contudo, quando \\[ESPAÇO\\] é pressionado, o loop inicia uma série de animações seguidas. Quando essas animações se encerram, o loop retorna ao estado inicial."
   ]
  },
  {
   "cell_type": "code",
   "execution_count": 107,
   "metadata": {},
   "outputs": [],
   "source": [
    "while not glfw.window_should_close(window):\n",
    "    \n",
    "    if(space_pressed == False): # Enquanto não apertar [ESPAÇO], só desenha a mola normal parada.\n",
    "        desenhar()\n",
    "        continue\n",
    "        \n",
    "    current_compression = 0.0\n",
    "    while space_pressed == True: # Apertou [ESPAÇO], então começar a compressionar a mola\n",
    "        if current_compression < compress_max:\n",
    "            current_compression += compress_rate\n",
    "        desenhar(scale_y = 1.0 - current_compression)\n",
    "    \n",
    "    if current_compression < compress_min:\n",
    "        continue # Não compressionou a mola o bastante! Sem forças para pular.\n",
    "    \n",
    "    # Colocou forças o bastante na compressão! Definir agora se vai pular para esquerda ou direita.\n",
    "    direction = rand.uniform(0.0, 1.0)\n",
    "    if(direction > bounce_random_probability):\n",
    "        direction = -1.0 # Vai pular para esquerda\n",
    "    else:\n",
    "        direction = 1.0 # Vai pular para direita\n",
    "    \n",
    "    compression_normalized = (current_compression - compress_min) / (compress_max - compress_min) # Normaliza entre 0..1.\n",
    "    posx = 0.0 # Posição começa em 0.\n",
    "    posx_max = bounce_min_x_distance + compression_normalized * (bounce_max_x_distance - bounce_min_x_distance) # A força de compressão decide a posição x máxima.\n",
    "    posy_max = bounce_min_y_distance + compression_normalized * (bounce_max_y_distance - bounce_min_y_distance) # A força de compressão decide a posição y máxima.\n",
    "    posy_factor = posy_max / math.pow(posx_max / 2.0, 2) # Isso é apenas para fazer um efeito de força gravidade no eixo y.\n",
    "    while posx < posx_max: # Loop que faz o pulo efetivamente.\n",
    "        posx += bounce_rate # Aumenta a posição no eixo x.\n",
    "        posy = -posy_factor * math.pow(posx - posx_max / 2, 2) + posy_max # Calcula a posição no eixo y.\n",
    "        normalized_x = max(0.0, min(1.0, posx / posx_max)) * 2.0 - 1.0 # Normaliza posição x entre -1..1\n",
    "        angle = math.acos(normalized_x) # Calcula o ângulo.\n",
    "        desenhar(translation_x = direction * posx, translation_y = posy, rotation = direction * angle)\n",
    "    \n",
    "    c = 0.0\n",
    "    while c < current_compression: # Animação de quando a mola bate no chão - compressionando\n",
    "        desenhar(translation_x = direction * posx, scale_y = 1.0 - c)\n",
    "        c += 10 * compress_rate\n",
    "        \n",
    "    while c > 0.0: # Animação de quando a mola bate no chão - retornando ao estado normal\n",
    "        desenhar(translation_x = direction * posx, scale_y = 1.0 - c)\n",
    "        c -= 10 * compress_rate\n",
    "    \n",
    "    time = 0\n",
    "    while time < restart_wait: # Espera um pouco antes de retornar a mola para a posição original.\n",
    "        time += 1\n",
    "        desenhar(translation_x = direction * posx)\n",
    "        \n",
    "    space_pressed = False # Força que o usuário pressione o [ESPAÇO] novamente, caso queira uma nova animação.\n",
    "    \n",
    "\n",
    "glfw.terminate()"
   ]
  },
  {
   "cell_type": "markdown",
   "metadata": {},
   "source": [
    "### Controles da mola.\n",
    "\n",
    "Para controlar a mola, basta apertar e segurar \\[ESPAÇO\\] no teclado. Se você segurar muito pouco, talvez a mola não tenha o impulso necessário para pular, e nada será realizado. Se você segurar o bastante, ela vai pular. E se você segurar muito, ela chega na compressão máxima e pula a máxima distância permitida.\n",
    "    - ESPAÇO: Comprimir a mola"
   ]
  }
 ],
 "metadata": {
  "finalized": {
   "timestamp": 1583114796072,
   "trusted": true
  },
  "kernelspec": {
   "display_name": "Python 3",
   "language": "python",
   "name": "python3"
  },
  "language_info": {
   "codemirror_mode": {
    "name": "ipython",
    "version": 3
   },
   "file_extension": ".py",
   "mimetype": "text/x-python",
   "name": "python",
   "nbconvert_exporter": "python",
   "pygments_lexer": "ipython3",
   "version": "3.6.9"
  }
 },
 "nbformat": 4,
 "nbformat_minor": 2
}
